{
 "cells": [
  {
   "cell_type": "markdown",
   "metadata": {},
   "source": [
    "# API 資料串接 - 以 Dcard API 實作範例\n",
    "\n",
    "* 了解 Dcard API 使用方式與回傳內容\n",
    "* 撰寫程式存取 API 且解析 JSON 格式資料\n"
   ]
  },
  {
   "cell_type": "markdown",
   "metadata": {},
   "source": [
    "## 作業目標\n",
    "\n",
    "* 請利用 API: https://www.dcard.tw/_api/forums/pet/posts?popular=true 回答下列問題：\n",
    "\n",
    "1. 這個 API 一次會回傳幾筆資料？每一筆資料包含哪些欄位？\n",
    "2. 取出每一筆資料的「標題」、「貼文時間」、「留言人數」、「按讚人數」\n",
    "3. 計算熱門/非熱門文章的「平均留言人數」與「平均按讚人數」"
   ]
  },
  {
   "cell_type": "code",
   "execution_count": 15,
   "metadata": {},
   "outputs": [
    {
     "name": "stdout",
     "output_type": "stream",
     "text": [
      "30\n",
      "['id', 'title', 'excerpt', 'anonymousSchool', 'anonymousDepartment', 'pinned', 'forumId', 'replyId', 'createdAt', 'updatedAt', 'commentCount', 'likeCount', 'withNickname', 'tags', 'topics', 'meta', 'forumName', 'forumAlias', 'nsfw', 'gender', 'school', 'department', 'replyTitle', 'mediaMeta', 'reactions', 'hidden', 'customStyle', 'isSuspiciousAccount', 'isModerator', 'layout', 'pinnedType', 'pinnedPriority', 'spoilerAlert', 'isSelectedPost', 'totalCommentCount', 'withImages', 'withVideos', 'media', 'reportReasonText', 'supportedReactions', 'excerptComments', 'edited', 'postAvatar', 'activityAvatar', 'verifiedBadge', 'memberType']\n"
     ]
    }
   ],
   "source": [
    "# 1. 這個 API 一次會回傳幾筆資料？每一筆資料包含哪些欄位？\n",
    "import requests,json\n",
    "r = requests.get('https://www.dcard.tw/_api/forums/pet/posts?popular=true')\n",
    "re = json.loads(r.text)\n",
    "data_count = len(re)\n",
    "clo = list(re[0].keys())\n",
    "print(data_count)\n",
    "print(clo)\n"
   ]
  },
  {
   "cell_type": "code",
   "execution_count": 24,
   "metadata": {},
   "outputs": [
    {
     "name": "stdout",
     "output_type": "stream",
     "text": [
      "毛起來攝攝獲獎者公告\n",
      "2021-10-30T06:53:59.558Z\n",
      "4\n",
      "14\n",
      "欸妳到底什麼貓啦 🤷🏻‍♀️\n",
      "2021-11-03T19:33:58.108Z\n",
      "43\n",
      "742\n",
      "原來貓咪真的可以越長越醜？？\n",
      "2021-11-04T04:42:17.514Z\n",
      "44\n",
      "408\n",
      "寶貝兒子 你這樣我怎麼打電腦？？\n",
      "2021-11-04T09:54:05.312Z\n",
      "12\n",
      "197\n",
      "小羊求摸摸\n",
      "2021-11-04T08:17:04.817Z\n",
      "4\n",
      "165\n",
      "石頭寵物\n",
      "2021-11-04T09:54:15.861Z\n",
      "17\n",
      "111\n",
      "當貓咪遇上貼紙會…..？\n",
      "2021-11-04T04:54:03.733Z\n",
      "15\n",
      "98\n",
      "菜好好吃  嚼嚼嚼\n",
      "2021-11-04T06:32:46.693Z\n",
      "3\n",
      "80\n",
      "我們家變溝鼠月子中心了\n",
      "2021-11-04T01:37:16.666Z\n",
      "40\n",
      "62\n",
      "當貓咪遇上120隻沙沙鼠\n",
      "2021-11-04T10:24:02.488Z\n",
      "8\n",
      "44\n",
      "當陽光虎斑遇上流氓黑喵\n",
      "2021-11-04T04:25:00.253Z\n",
      "6\n",
      "38\n",
      "貓貓被摸頭，真療癒\n",
      "2021-11-04T12:29:20.418Z\n",
      "6\n",
      "34\n",
      "我的貓會打蚊子\n",
      "2021-11-04T12:37:47.475Z\n",
      "14\n",
      "33\n",
      "#分享 寵物展戰利品粗略分享！陪心屁孩罐、毛怪樂園新罐頭、超可愛領巾😻😻\n",
      "2021-11-04T07:19:28.713Z\n",
      "2\n",
      "23\n",
      "#分享 #貓 🐱終於解決了房間的貓味\n",
      "2021-11-04T07:23:52.471Z\n",
      "8\n",
      "22\n",
      "各種睡姿\n",
      "2021-11-04T10:53:54.946Z\n",
      "8\n",
      "19\n",
      "貓咪也有分離焦慮症嗎\n",
      "2021-11-04T05:25:40.212Z\n",
      "6\n",
      "18\n",
      "有人家的貓走丟嗎？\n",
      "2021-11-04T03:56:31.602Z\n",
      "1\n",
      "18\n",
      "你的貓咪有門齒嗎？\n",
      "2021-11-04T23:52:05.807Z\n",
      "3\n",
      "16\n",
      "貓咪溜滑梯\n",
      "2021-11-04T17:45:27.416Z\n",
      "0\n",
      "16\n",
      "養到一隻像狗狗的貓貓，每天5點準時叫人，有夠皮 但是真的可愛\n",
      "2021-11-04T07:42:43.979Z\n",
      "0\n",
      "16\n",
      "怎麼這樣也可以睡啦😍\n",
      "2021-11-04T07:57:00.300Z\n",
      "2\n",
      "15\n",
      "建議不要買這種推車啦\n",
      "2021-11-04T16:14:06.568Z\n",
      "0\n",
      "14\n",
      "放任狗亂跑害死騎士 飼主重判2年\n",
      "2021-11-04T05:14:06.686Z\n",
      "7\n",
      "12\n",
      "真的超愛浪浪\n",
      "2021-11-04T15:30:57.774Z\n",
      "7\n",
      "9\n",
      "漂亮米克斯小貓送養~\n",
      "2021-11-04T11:53:53.198Z\n",
      "0\n",
      "8\n",
      "掉色的芝麻..？\n",
      "2021-11-05T03:09:43.175Z\n",
      "0\n",
      "7\n",
      "台中流浪小貓需要幫助！\n",
      "2021-11-04T14:56:32.991Z\n",
      "5\n",
      "7\n",
      "貓貓隱睪症 求北部醫院推薦🙇‍♀️\n",
      "2021-11-04T09:50:59.046Z\n",
      "6\n",
      "7\n",
      "黑特 台南品種貓/狗認養\n",
      "2021-11-05T02:24:20.634Z\n",
      "11\n",
      "6\n"
     ]
    }
   ],
   "source": [
    "# 2. 取出每一筆資料的「標題」、「貼文時間」、「留言人數」、「按讚人數」\n",
    "for data in re:\n",
    "    print(data[\"title\"])\n",
    "    print(data[\"createdAt\"])\n",
    "    print(data[\"commentCount\"])\n",
    "    print(data[\"likeCount\"])\n",
    "\n"
   ]
  },
  {
   "cell_type": "code",
   "execution_count": 27,
   "metadata": {},
   "outputs": [
    {
     "name": "stdout",
     "output_type": "stream",
     "text": [
      "熱門文章留言平均人數： 8.3\n",
      "熱門文章按讚平均人數： 51.96666666666667\n",
      "非熱門文章留言平均人數： 2.2\n",
      "非熱門文章按讚平均人數： 4.533333333333333\n"
     ]
    }
   ],
   "source": [
    "# 3. 計算熱門/非熱門文章的「平均留言人數」與「平均按讚人數」\n",
    "import requests,json\n",
    "#熱門\n",
    "popcommentcount = 0\n",
    "poplikecount = 0\n",
    "\n",
    "rp = requests.get('https://www.dcard.tw/_api/forums/pet/posts?popular=true')\n",
    "rep = json.loads(rp.text)\n",
    "\n",
    "popular_count = len(rep)\n",
    "\n",
    "for data in rep:\n",
    "    popcommentcount += data[\"commentCount\"]\n",
    "    poplikecount +=data[\"likeCount\"]\n",
    "\n",
    "print(\"熱門文章留言平均人數：\" , popcommentcount/popular_count)\n",
    "print(\"熱門文章按讚平均人數：\" , poplikecount/popular_count)\n",
    "\n",
    "#非熱門\n",
    "nonpopcommentcount = 0\n",
    "nonpoplikecount = 0\n",
    "\n",
    "rn = requests.get('https://www.dcard.tw/_api/forums/pet/posts?popular=false')\n",
    "ren = json.loads(rn.text)\n",
    "\n",
    "nonpopular_count = len(ren)\n",
    "\n",
    "for data in ren:\n",
    "    nonpopcommentcount += data[\"commentCount\"]\n",
    "    nonpoplikecount +=data[\"likeCount\"]\n",
    "\n",
    "print(\"非熱門文章留言平均人數：\" , nonpopcommentcount/nonpopular_count)\n",
    "print(\"非熱門文章按讚平均人數：\" , nonpoplikecount/nonpopular_count)\n"
   ]
  },
  {
   "cell_type": "code",
   "execution_count": null,
   "metadata": {},
   "outputs": [],
   "source": []
  },
  {
   "cell_type": "code",
   "execution_count": null,
   "metadata": {},
   "outputs": [],
   "source": []
  }
 ],
 "metadata": {
  "interpreter": {
   "hash": "98d986e16014c9e816d2517368fd6a98c7c85720c74c08ab9246dbaa2a608120"
  },
  "kernelspec": {
   "display_name": "Python 3.7.3 32-bit",
   "name": "python3"
  },
  "language_info": {
   "codemirror_mode": {
    "name": "ipython",
    "version": 3
   },
   "file_extension": ".py",
   "mimetype": "text/x-python",
   "name": "python",
   "nbconvert_exporter": "python",
   "pygments_lexer": "ipython3",
   "version": "3.7.3"
  }
 },
 "nbformat": 4,
 "nbformat_minor": 2
}
